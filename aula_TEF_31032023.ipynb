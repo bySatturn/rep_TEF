{
  "nbformat": 4,
  "nbformat_minor": 0,
  "metadata": {
    "colab": {
      "provenance": [],
      "toc_visible": true,
      "authorship_tag": "ABX9TyMM/i2+3aMDMZ20n+r6D42e",
      "include_colab_link": true
    },
    "kernelspec": {
      "name": "python3",
      "display_name": "Python 3"
    },
    "language_info": {
      "name": "python"
    }
  },
  "cells": [
    {
      "cell_type": "markdown",
      "metadata": {
        "id": "view-in-github",
        "colab_type": "text"
      },
      "source": [
        "<a href=\"https://colab.research.google.com/github/bySatturn/rep_TEF/blob/main/aula_TEF_31032023.ipynb\" target=\"_parent\"><img src=\"https://colab.research.google.com/assets/colab-badge.svg\" alt=\"Open In Colab\"/></a>"
      ]
    },
    {
      "cell_type": "markdown",
      "source": [
        "#**Ajuste de mínimos quadrados utilizando o Python.**\n"
      ],
      "metadata": {
        "id": "y12UynDVbz7o"
      }
    },
    {
      "cell_type": "code",
      "execution_count": null,
      "metadata": {
        "id": "eHjrQYT6btHY"
      },
      "outputs": [],
      "source": [
        "import numpy as np\n",
        "import pandas as pd\n",
        "import scipy as sp\n",
        "import astropy as ap\n",
        "import matplotlib.pyplot as plt\n",
        "\n",
        "xx = np.arange(0, 100, 2)\n",
        "yy = (1e0 + 2e0 * xx)+(np.random.randn(50) * 1e1)\n",
        "\n",
        "M11 = np.sum(xx * 2)\n",
        "M12 = np.sum(xx)\n",
        "M21 = M12\n",
        "M22 = len(xx)\n",
        "C11 = np.sum(xx * yy)\n",
        "C21 = np.sum(yy)\n",
        "\n",
        "matriz  = np.array([[M11, M12], [M21, M22]])\n",
        "matriz_col = np.array([[C11], [C21]])\n",
        "\n",
        "res = np.linalg.solve(matriz, matriz_col)\n",
        "\n",
        "yfit = (res[0] * xx) + res[1]\n",
        "\n",
        "plt.plot(xx, yy, '*')\n",
        "plt.xlabel(\"A\")\n",
        "plt.ylabel(\"Y\")\n",
        "plt.title(\"Ajuste de mínimos quadrados\")\n",
        "plt.plot(xx, yfit)\n",
        "plt.show()"
      ]
    },
    {
      "cell_type": "markdown",
      "source": [
        "# **Exemplo de ajuste utilizando uma função pré-estabelecida de uma biblioteca (optimize.curve_fit do SciPy)**"
      ],
      "metadata": {
        "id": "QOea0NSKmja6"
      }
    },
    {
      "cell_type": "code",
      "source": [
        "def func_ajuste(x, a, b):\n",
        "  return a * xx + b"
      ],
      "metadata": {
        "id": "mwY5HGQHm58H"
      },
      "execution_count": null,
      "outputs": []
    },
    {
      "cell_type": "markdown",
      "source": [
        "# **Salvando arquivos de texto utilizando o Pandas**"
      ],
      "metadata": {
        "id": "NFy5E7l4q5lP"
      }
    },
    {
      "cell_type": "code",
      "source": [],
      "metadata": {
        "id": "PAa2bmd9rECU"
      },
      "execution_count": 33,
      "outputs": []
    }
  ]
}